{
  "nbformat": 4,
  "nbformat_minor": 0,
  "metadata": {
    "colab": {
      "provenance": [],
      "authorship_tag": "ABX9TyP5ujNuHZUXD2O5R+Ecb6ue",
      "include_colab_link": true
    },
    "kernelspec": {
      "name": "python3",
      "display_name": "Python 3"
    },
    "language_info": {
      "name": "python"
    }
  },
  "cells": [
    {
      "cell_type": "markdown",
      "metadata": {
        "id": "view-in-github",
        "colab_type": "text"
      },
      "source": [
        "<a href=\"https://colab.research.google.com/github/honekiti/honekiti.github.io/blob/main/SIGNATEcup_program.ipynb\" target=\"_parent\"><img src=\"https://colab.research.google.com/assets/colab-badge.svg\" alt=\"Open In Colab\"/></a>"
      ]
    },
    {
      "cell_type": "markdown",
      "source": [
        "#今の所(2024/08/12)流れ\n",
        "\n",
        "tutorialのコードをベース\n",
        "\n",
        "不均衡データなので、アンダーサンプリング・バギングを実装する\n",
        "\n",
        "モデルを変える\n",
        "\n",
        "#8/30\n",
        "モデルをスタッキングで行う"
      ],
      "metadata": {
        "id": "qF223YzI8JKC"
      }
    },
    {
      "cell_type": "code",
      "source": [
        "from google.colab import drive\n",
        "drive.mount('/content/drive')"
      ],
      "metadata": {
        "colab": {
          "base_uri": "https://localhost:8080/"
        },
        "id": "QGRlRdUd4YSF",
        "outputId": "d9e6c622-e3fa-49a6-9917-1acf4283d452"
      },
      "execution_count": null,
      "outputs": [
        {
          "output_type": "stream",
          "name": "stdout",
          "text": [
            "Mounted at /content/drive\n"
          ]
        }
      ]
    },
    {
      "cell_type": "code",
      "source": [
        "import pandas as pd\n",
        "import numpy as np\n",
        "import matplotlib.pyplot as plt\n",
        "import seaborn as sns\n",
        "import re\n",
        "from sklearn.model_selection import train_test_split, KFold\n",
        "from sklearn.metrics import roc_auc_score, roc_curve\n",
        "from sklearn.ensemble import RandomForestClassifier, GradientBoostingClassifier\n",
        "from sklearn.neighbors import KNeighborsClassifier\n",
        "from xgboost import XGBClassifier\n",
        "from sklearn.base import clone"
      ],
      "metadata": {
        "id": "VuTggQnD42-D"
      },
      "execution_count": null,
      "outputs": []
    },
    {
      "cell_type": "code",
      "source": [
        "# データの読み込み\n",
        "train = pd.read_csv(\"/content/drive/MyDrive/SIGNATE_Cup 2024/data/train.csv\")\n",
        "test = pd.read_csv(\"/content/drive/MyDrive/SIGNATE_Cup 2024/data/test.csv\")\n"
      ],
      "metadata": {
        "id": "NKKkqTr073zw"
      },
      "execution_count": null,
      "outputs": []
    },
    {
      "cell_type": "code",
      "source": [
        "# age列を取り出す\n",
        "age = train['Age']\n",
        "\n",
        "# 漢数字を数値に変換する関数\n",
        "def kanji_to_int(kanji):\n",
        "    kanji_num_dict = {'一': 1, '二': 2, '三': 3, '四': 4, '五': 5, '六': 6, '七': 7, '八': 8, '九': 9, '十': 10,\n",
        "                      '百': 100, '千': 1000, '万': 10000, '億': 100000000}\n",
        "\n",
        "    num = 0\n",
        "    temp = 0\n",
        "    for char in kanji:\n",
        "        if char in kanji_num_dict:\n",
        "            if kanji_num_dict[char] >= 10:\n",
        "                if temp == 0:\n",
        "                    temp = 1\n",
        "                num += temp * kanji_num_dict[char]\n",
        "                temp = 0\n",
        "            else:\n",
        "                temp += kanji_num_dict[char]\n",
        "        else:\n",
        "            return None\n",
        "\n",
        "    num += temp\n",
        "    return num\n",
        "\n",
        "# age列の前処理を行う関数\n",
        "def preprocess_age_data(data):\n",
        "    processed_data = []\n",
        "\n",
        "    for item in data:\n",
        "        if pd.isnull(item):\n",
        "            processed_data.append(np.nan)\n",
        "            continue\n",
        "\n",
        "        # 全角数字を半角に変換\n",
        "        item = str(item).translate(str.maketrans('０１２３４５６７８９', '0123456789'))\n",
        "\n",
        "        # 漢数字を数値に変換\n",
        "        item = re.sub(r'[一二三四五六七八九十百千万億]+', lambda x: str(kanji_to_int(x.group())), item)\n",
        "\n",
        "        # 「歳」や「才」などの文字を削除\n",
        "        item = re.sub(r'[歳才]', '', item)\n",
        "\n",
        "        # 数値変換が可能かどうかを確認して変換\n",
        "        try:\n",
        "            processed_data.append(int(item))\n",
        "        except ValueError:\n",
        "            processed_data.append(np.nan)\n",
        "\n",
        "    return processed_data\n",
        "\n",
        "# ageデータの前処理を実行\n",
        "train['age'] = preprocess_age_data(age)\n",
        "test['age'] = preprocess_age_data(age)\n",
        "\n",
        "# 前処理されたデータを表示\n",
        "print(train[['Age', 'age']])\n"
      ],
      "metadata": {
        "colab": {
          "base_uri": "https://localhost:8080/"
        },
        "id": "-KEjmFEZmTU6",
        "outputId": "f40d8578-4225-46c2-a010-f87ffb501c58"
      },
      "execution_count": null,
      "outputs": [
        {
          "output_type": "stream",
          "name": "stdout",
          "text": [
            "       Age   age\n",
            "0      50歳  50.0\n",
            "1      56歳  56.0\n",
            "2      NaN   NaN\n",
            "3     三十七歳  37.0\n",
            "4      48歳  48.0\n",
            "...    ...   ...\n",
            "3484   40歳  40.0\n",
            "3485   40代   NaN\n",
            "3486   31歳  31.0\n",
            "3487   56歳  56.0\n",
            "3488   42歳  42.0\n",
            "\n",
            "[3489 rows x 2 columns]\n"
          ]
        }
      ]
    },
    {
      "cell_type": "code",
      "source": [
        "# Gender列を取り出す\n",
        "gender_data = train['Gender']\n",
        "\n",
        "# 前処理関数\n",
        "def preprocess_gender_data(data):\n",
        "    processed_data = []\n",
        "\n",
        "    for item in data:\n",
        "        # nullデータをチェック\n",
        "        if pd.isnull(item):\n",
        "            processed_data.append(item)\n",
        "            continue\n",
        "\n",
        "        # 全角英字を半角に変換\n",
        "        item = item.translate(str.maketrans('ＡＢＣＤＥＦＧＨＩＪＫＬＭＮＯＰＱＲＳＴＵＶＷＸＹＺａｂｃｄｅｆｇｈｉｊｋｌｍｎｏｐｑｒｓｔｕｖｗｘｙｚ',\n",
        "                                            'ABCDEFGHIJKLMNOPQRSTUVWXYZabcdefghijklmnopqrstuvwxyz'))\n",
        "\n",
        "        # 小文字に変換\n",
        "        item = item.lower()\n",
        "\n",
        "        # スペースや全角スペースを削除\n",
        "        item = re.sub(r'\\s+', '', item)\n",
        "\n",
        "        # 変換されたデータをリストに追加\n",
        "        processed_data.append(item)\n",
        "\n",
        "    return processed_data\n",
        "\n",
        "# Genderデータの前処理を実行\n",
        "train['gender'] = preprocess_gender_data(gender_data)\n",
        "test['gender'] = preprocess_gender_data(gender_data)\n",
        "\n",
        "# 前処理されたデータを表示\n",
        "print(train[['Gender', 'gender']])"
      ],
      "metadata": {
        "colab": {
          "base_uri": "https://localhost:8080/"
        },
        "id": "eNrPAg7UmU5-",
        "outputId": "ead3baa4-98c1-4217-a896-827110f19589"
      },
      "execution_count": null,
      "outputs": [
        {
          "output_type": "stream",
          "name": "stdout",
          "text": [
            "      Gender  gender\n",
            "0       male    male\n",
            "1       Male    male\n",
            "2     Female  female\n",
            "3     female  female\n",
            "4     female  female\n",
            "...      ...     ...\n",
            "3484    Male    male\n",
            "3485    Male    male\n",
            "3486  FEMALE  female\n",
            "3487    Male    male\n",
            "3488    male    male\n",
            "\n",
            "[3489 rows x 2 columns]\n"
          ]
        }
      ]
    },
    {
      "cell_type": "code",
      "source": [
        "# DurationOfPitch列を取り出す\n",
        "duration_data = train['DurationOfPitch']\n",
        "\n",
        "# 前処理関数\n",
        "def preprocess_duration_data(data):\n",
        "    processed_data = []\n",
        "\n",
        "    for item in data:\n",
        "        # nullデータをチェック\n",
        "        if pd.isnull(item):\n",
        "            processed_data.append(np.nan)\n",
        "            continue\n",
        "\n",
        "        # 秒を分に変換\n",
        "        if '秒' in item:\n",
        "            # 数値部分を抽出して秒を分に変換\n",
        "            seconds = int(re.findall(r'\\d+', item)[0])\n",
        "            minutes = seconds / 60\n",
        "            processed_data.append(minutes)\n",
        "        elif '分' in item:\n",
        "            # 数値部分を抽出してそのまま分として使用\n",
        "            minutes = int(re.findall(r'\\d+', item)[0])\n",
        "            processed_data.append(minutes)\n",
        "        else:\n",
        "            # 想定外の形式の場合、NaNを追加\n",
        "            processed_data.append(np.nan)\n",
        "\n",
        "    return processed_data\n",
        "\n",
        "# DurationOfPitchデータの前処理を実行\n",
        "train['durationOfPitch'] = preprocess_duration_data(duration_data)\n",
        "test['durationOfPitch'] = preprocess_duration_data(duration_data)\n",
        "\n",
        "# 前処理されたデータを表示\n",
        "print(train[['DurationOfPitch', 'durationOfPitch']])"
      ],
      "metadata": {
        "colab": {
          "base_uri": "https://localhost:8080/"
        },
        "id": "eqNBHD56mZM9",
        "outputId": "a7d0ccf3-4ef1-4e4e-c3ad-7c03be1bc5b1"
      },
      "execution_count": null,
      "outputs": [
        {
          "output_type": "stream",
          "name": "stdout",
          "text": [
            "     DurationOfPitch  durationOfPitch\n",
            "0               900秒             15.0\n",
            "1                14分             14.0\n",
            "2                10分             10.0\n",
            "3              1080秒             18.0\n",
            "4              1020秒             17.0\n",
            "...              ...              ...\n",
            "3484           1560秒             26.0\n",
            "3485              9分              9.0\n",
            "3486            840秒             14.0\n",
            "3487            900秒             15.0\n",
            "3488              9分              9.0\n",
            "\n",
            "[3489 rows x 2 columns]\n"
          ]
        }
      ]
    },
    {
      "cell_type": "code",
      "source": [
        "from sklearn.preprocessing import LabelEncoder\n",
        "\n",
        "# Handle the 'gender' column\n",
        "le = LabelEncoder()\n",
        "train['gender'] = le.fit_transform(train['gender'])\n",
        "test['gender'] = le.fit_transform(test['gender'])\n",
        "\n",
        "le = LabelEncoder()\n",
        "train['age'] = le.fit_transform(train['age'])\n",
        "test['age'] = le.fit_transform(test['age'])\n",
        "\n",
        "le = LabelEncoder()\n",
        "train['durationOfPitch'] = le.fit_transform(train['durationOfPitch'])"
      ],
      "metadata": {
        "id": "pn_yh_MVne9I"
      },
      "execution_count": null,
      "outputs": []
    },
    {
      "cell_type": "code",
      "source": [
        "# pd.get_dummiesを使って、カテゴリ変数をダミー変数に変換します。\n",
        "# columns パラメータでダミー変数化する特徴量を指定します。\n",
        "train = pd.get_dummies(train, columns=[\"TypeofContact\", \"Occupation\"])\n",
        "test = pd.get_dummies(test, columns=[\"TypeofContact\", \"Occupation\"])\n",
        "\n",
        "#TypeofContact_Company Invited列の内容を確認します。\n",
        "train[\"TypeofContact_Company Invited\"].head()"
      ],
      "metadata": {
        "colab": {
          "base_uri": "https://localhost:8080/",
          "height": 241
        },
        "id": "LYW9aLhepnCC",
        "outputId": "9e701bb0-0503-4aa0-b4d5-1eedf962d232"
      },
      "execution_count": null,
      "outputs": [
        {
          "output_type": "execute_result",
          "data": {
            "text/plain": [
              "0    False\n",
              "1     True\n",
              "2    False\n",
              "3    False\n",
              "4     True\n",
              "Name: TypeofContact_Company Invited, dtype: bool"
            ],
            "text/html": [
              "<div>\n",
              "<style scoped>\n",
              "    .dataframe tbody tr th:only-of-type {\n",
              "        vertical-align: middle;\n",
              "    }\n",
              "\n",
              "    .dataframe tbody tr th {\n",
              "        vertical-align: top;\n",
              "    }\n",
              "\n",
              "    .dataframe thead th {\n",
              "        text-align: right;\n",
              "    }\n",
              "</style>\n",
              "<table border=\"1\" class=\"dataframe\">\n",
              "  <thead>\n",
              "    <tr style=\"text-align: right;\">\n",
              "      <th></th>\n",
              "      <th>TypeofContact_Company Invited</th>\n",
              "    </tr>\n",
              "  </thead>\n",
              "  <tbody>\n",
              "    <tr>\n",
              "      <th>0</th>\n",
              "      <td>False</td>\n",
              "    </tr>\n",
              "    <tr>\n",
              "      <th>1</th>\n",
              "      <td>True</td>\n",
              "    </tr>\n",
              "    <tr>\n",
              "      <th>2</th>\n",
              "      <td>False</td>\n",
              "    </tr>\n",
              "    <tr>\n",
              "      <th>3</th>\n",
              "      <td>False</td>\n",
              "    </tr>\n",
              "    <tr>\n",
              "      <th>4</th>\n",
              "      <td>True</td>\n",
              "    </tr>\n",
              "  </tbody>\n",
              "</table>\n",
              "</div><br><label><b>dtype:</b> bool</label>"
            ]
          },
          "metadata": {},
          "execution_count": 70
        }
      ]
    },
    {
      "cell_type": "code",
      "source": [
        "# Occupationのダミー変数の一部を確認します。\n",
        "train[['Occupation_Large Business', 'Occupation_Salaried', 'Occupation_Small Business']].head()"
      ],
      "metadata": {
        "colab": {
          "base_uri": "https://localhost:8080/",
          "height": 206
        },
        "id": "4bfAkfhgpslC",
        "outputId": "fd3ca830-b2db-4c81-9a36-3be8167c3683"
      },
      "execution_count": null,
      "outputs": [
        {
          "output_type": "execute_result",
          "data": {
            "text/plain": [
              "   Occupation_Large Business  Occupation_Salaried  Occupation_Small Business\n",
              "0                       True                False                      False\n",
              "1                      False                 True                      False\n",
              "2                       True                False                      False\n",
              "3                      False                False                       True\n",
              "4                      False                False                       True"
            ],
            "text/html": [
              "\n",
              "  <div id=\"df-9638940b-7eeb-4210-b5b2-8aa3c496d297\" class=\"colab-df-container\">\n",
              "    <div>\n",
              "<style scoped>\n",
              "    .dataframe tbody tr th:only-of-type {\n",
              "        vertical-align: middle;\n",
              "    }\n",
              "\n",
              "    .dataframe tbody tr th {\n",
              "        vertical-align: top;\n",
              "    }\n",
              "\n",
              "    .dataframe thead th {\n",
              "        text-align: right;\n",
              "    }\n",
              "</style>\n",
              "<table border=\"1\" class=\"dataframe\">\n",
              "  <thead>\n",
              "    <tr style=\"text-align: right;\">\n",
              "      <th></th>\n",
              "      <th>Occupation_Large Business</th>\n",
              "      <th>Occupation_Salaried</th>\n",
              "      <th>Occupation_Small Business</th>\n",
              "    </tr>\n",
              "  </thead>\n",
              "  <tbody>\n",
              "    <tr>\n",
              "      <th>0</th>\n",
              "      <td>True</td>\n",
              "      <td>False</td>\n",
              "      <td>False</td>\n",
              "    </tr>\n",
              "    <tr>\n",
              "      <th>1</th>\n",
              "      <td>False</td>\n",
              "      <td>True</td>\n",
              "      <td>False</td>\n",
              "    </tr>\n",
              "    <tr>\n",
              "      <th>2</th>\n",
              "      <td>True</td>\n",
              "      <td>False</td>\n",
              "      <td>False</td>\n",
              "    </tr>\n",
              "    <tr>\n",
              "      <th>3</th>\n",
              "      <td>False</td>\n",
              "      <td>False</td>\n",
              "      <td>True</td>\n",
              "    </tr>\n",
              "    <tr>\n",
              "      <th>4</th>\n",
              "      <td>False</td>\n",
              "      <td>False</td>\n",
              "      <td>True</td>\n",
              "    </tr>\n",
              "  </tbody>\n",
              "</table>\n",
              "</div>\n",
              "    <div class=\"colab-df-buttons\">\n",
              "\n",
              "  <div class=\"colab-df-container\">\n",
              "    <button class=\"colab-df-convert\" onclick=\"convertToInteractive('df-9638940b-7eeb-4210-b5b2-8aa3c496d297')\"\n",
              "            title=\"Convert this dataframe to an interactive table.\"\n",
              "            style=\"display:none;\">\n",
              "\n",
              "  <svg xmlns=\"http://www.w3.org/2000/svg\" height=\"24px\" viewBox=\"0 -960 960 960\">\n",
              "    <path d=\"M120-120v-720h720v720H120Zm60-500h600v-160H180v160Zm220 220h160v-160H400v160Zm0 220h160v-160H400v160ZM180-400h160v-160H180v160Zm440 0h160v-160H620v160ZM180-180h160v-160H180v160Zm440 0h160v-160H620v160Z\"/>\n",
              "  </svg>\n",
              "    </button>\n",
              "\n",
              "  <style>\n",
              "    .colab-df-container {\n",
              "      display:flex;\n",
              "      gap: 12px;\n",
              "    }\n",
              "\n",
              "    .colab-df-convert {\n",
              "      background-color: #E8F0FE;\n",
              "      border: none;\n",
              "      border-radius: 50%;\n",
              "      cursor: pointer;\n",
              "      display: none;\n",
              "      fill: #1967D2;\n",
              "      height: 32px;\n",
              "      padding: 0 0 0 0;\n",
              "      width: 32px;\n",
              "    }\n",
              "\n",
              "    .colab-df-convert:hover {\n",
              "      background-color: #E2EBFA;\n",
              "      box-shadow: 0px 1px 2px rgba(60, 64, 67, 0.3), 0px 1px 3px 1px rgba(60, 64, 67, 0.15);\n",
              "      fill: #174EA6;\n",
              "    }\n",
              "\n",
              "    .colab-df-buttons div {\n",
              "      margin-bottom: 4px;\n",
              "    }\n",
              "\n",
              "    [theme=dark] .colab-df-convert {\n",
              "      background-color: #3B4455;\n",
              "      fill: #D2E3FC;\n",
              "    }\n",
              "\n",
              "    [theme=dark] .colab-df-convert:hover {\n",
              "      background-color: #434B5C;\n",
              "      box-shadow: 0px 1px 3px 1px rgba(0, 0, 0, 0.15);\n",
              "      filter: drop-shadow(0px 1px 2px rgba(0, 0, 0, 0.3));\n",
              "      fill: #FFFFFF;\n",
              "    }\n",
              "  </style>\n",
              "\n",
              "    <script>\n",
              "      const buttonEl =\n",
              "        document.querySelector('#df-9638940b-7eeb-4210-b5b2-8aa3c496d297 button.colab-df-convert');\n",
              "      buttonEl.style.display =\n",
              "        google.colab.kernel.accessAllowed ? 'block' : 'none';\n",
              "\n",
              "      async function convertToInteractive(key) {\n",
              "        const element = document.querySelector('#df-9638940b-7eeb-4210-b5b2-8aa3c496d297');\n",
              "        const dataTable =\n",
              "          await google.colab.kernel.invokeFunction('convertToInteractive',\n",
              "                                                    [key], {});\n",
              "        if (!dataTable) return;\n",
              "\n",
              "        const docLinkHtml = 'Like what you see? Visit the ' +\n",
              "          '<a target=\"_blank\" href=https://colab.research.google.com/notebooks/data_table.ipynb>data table notebook</a>'\n",
              "          + ' to learn more about interactive tables.';\n",
              "        element.innerHTML = '';\n",
              "        dataTable['output_type'] = 'display_data';\n",
              "        await google.colab.output.renderOutput(dataTable, element);\n",
              "        const docLink = document.createElement('div');\n",
              "        docLink.innerHTML = docLinkHtml;\n",
              "        element.appendChild(docLink);\n",
              "      }\n",
              "    </script>\n",
              "  </div>\n",
              "\n",
              "\n",
              "<div id=\"df-9357790c-9361-4a35-94b1-18c0ee9aac0b\">\n",
              "  <button class=\"colab-df-quickchart\" onclick=\"quickchart('df-9357790c-9361-4a35-94b1-18c0ee9aac0b')\"\n",
              "            title=\"Suggest charts\"\n",
              "            style=\"display:none;\">\n",
              "\n",
              "<svg xmlns=\"http://www.w3.org/2000/svg\" height=\"24px\"viewBox=\"0 0 24 24\"\n",
              "     width=\"24px\">\n",
              "    <g>\n",
              "        <path d=\"M19 3H5c-1.1 0-2 .9-2 2v14c0 1.1.9 2 2 2h14c1.1 0 2-.9 2-2V5c0-1.1-.9-2-2-2zM9 17H7v-7h2v7zm4 0h-2V7h2v10zm4 0h-2v-4h2v4z\"/>\n",
              "    </g>\n",
              "</svg>\n",
              "  </button>\n",
              "\n",
              "<style>\n",
              "  .colab-df-quickchart {\n",
              "      --bg-color: #E8F0FE;\n",
              "      --fill-color: #1967D2;\n",
              "      --hover-bg-color: #E2EBFA;\n",
              "      --hover-fill-color: #174EA6;\n",
              "      --disabled-fill-color: #AAA;\n",
              "      --disabled-bg-color: #DDD;\n",
              "  }\n",
              "\n",
              "  [theme=dark] .colab-df-quickchart {\n",
              "      --bg-color: #3B4455;\n",
              "      --fill-color: #D2E3FC;\n",
              "      --hover-bg-color: #434B5C;\n",
              "      --hover-fill-color: #FFFFFF;\n",
              "      --disabled-bg-color: #3B4455;\n",
              "      --disabled-fill-color: #666;\n",
              "  }\n",
              "\n",
              "  .colab-df-quickchart {\n",
              "    background-color: var(--bg-color);\n",
              "    border: none;\n",
              "    border-radius: 50%;\n",
              "    cursor: pointer;\n",
              "    display: none;\n",
              "    fill: var(--fill-color);\n",
              "    height: 32px;\n",
              "    padding: 0;\n",
              "    width: 32px;\n",
              "  }\n",
              "\n",
              "  .colab-df-quickchart:hover {\n",
              "    background-color: var(--hover-bg-color);\n",
              "    box-shadow: 0 1px 2px rgba(60, 64, 67, 0.3), 0 1px 3px 1px rgba(60, 64, 67, 0.15);\n",
              "    fill: var(--button-hover-fill-color);\n",
              "  }\n",
              "\n",
              "  .colab-df-quickchart-complete:disabled,\n",
              "  .colab-df-quickchart-complete:disabled:hover {\n",
              "    background-color: var(--disabled-bg-color);\n",
              "    fill: var(--disabled-fill-color);\n",
              "    box-shadow: none;\n",
              "  }\n",
              "\n",
              "  .colab-df-spinner {\n",
              "    border: 2px solid var(--fill-color);\n",
              "    border-color: transparent;\n",
              "    border-bottom-color: var(--fill-color);\n",
              "    animation:\n",
              "      spin 1s steps(1) infinite;\n",
              "  }\n",
              "\n",
              "  @keyframes spin {\n",
              "    0% {\n",
              "      border-color: transparent;\n",
              "      border-bottom-color: var(--fill-color);\n",
              "      border-left-color: var(--fill-color);\n",
              "    }\n",
              "    20% {\n",
              "      border-color: transparent;\n",
              "      border-left-color: var(--fill-color);\n",
              "      border-top-color: var(--fill-color);\n",
              "    }\n",
              "    30% {\n",
              "      border-color: transparent;\n",
              "      border-left-color: var(--fill-color);\n",
              "      border-top-color: var(--fill-color);\n",
              "      border-right-color: var(--fill-color);\n",
              "    }\n",
              "    40% {\n",
              "      border-color: transparent;\n",
              "      border-right-color: var(--fill-color);\n",
              "      border-top-color: var(--fill-color);\n",
              "    }\n",
              "    60% {\n",
              "      border-color: transparent;\n",
              "      border-right-color: var(--fill-color);\n",
              "    }\n",
              "    80% {\n",
              "      border-color: transparent;\n",
              "      border-right-color: var(--fill-color);\n",
              "      border-bottom-color: var(--fill-color);\n",
              "    }\n",
              "    90% {\n",
              "      border-color: transparent;\n",
              "      border-bottom-color: var(--fill-color);\n",
              "    }\n",
              "  }\n",
              "</style>\n",
              "\n",
              "  <script>\n",
              "    async function quickchart(key) {\n",
              "      const quickchartButtonEl =\n",
              "        document.querySelector('#' + key + ' button');\n",
              "      quickchartButtonEl.disabled = true;  // To prevent multiple clicks.\n",
              "      quickchartButtonEl.classList.add('colab-df-spinner');\n",
              "      try {\n",
              "        const charts = await google.colab.kernel.invokeFunction(\n",
              "            'suggestCharts', [key], {});\n",
              "      } catch (error) {\n",
              "        console.error('Error during call to suggestCharts:', error);\n",
              "      }\n",
              "      quickchartButtonEl.classList.remove('colab-df-spinner');\n",
              "      quickchartButtonEl.classList.add('colab-df-quickchart-complete');\n",
              "    }\n",
              "    (() => {\n",
              "      let quickchartButtonEl =\n",
              "        document.querySelector('#df-9357790c-9361-4a35-94b1-18c0ee9aac0b button');\n",
              "      quickchartButtonEl.style.display =\n",
              "        google.colab.kernel.accessAllowed ? 'block' : 'none';\n",
              "    })();\n",
              "  </script>\n",
              "</div>\n",
              "\n",
              "    </div>\n",
              "  </div>\n"
            ],
            "application/vnd.google.colaboratory.intrinsic+json": {
              "type": "dataframe",
              "summary": "{\n  \"name\": \"train[['Occupation_Large Business', 'Occupation_Salaried', 'Occupation_Small Business']]\",\n  \"rows\": 5,\n  \"fields\": [\n    {\n      \"column\": \"Occupation_Large Business\",\n      \"properties\": {\n        \"dtype\": \"boolean\",\n        \"num_unique_values\": 2,\n        \"samples\": [\n          false,\n          true\n        ],\n        \"semantic_type\": \"\",\n        \"description\": \"\"\n      }\n    },\n    {\n      \"column\": \"Occupation_Salaried\",\n      \"properties\": {\n        \"dtype\": \"boolean\",\n        \"num_unique_values\": 2,\n        \"samples\": [\n          true,\n          false\n        ],\n        \"semantic_type\": \"\",\n        \"description\": \"\"\n      }\n    },\n    {\n      \"column\": \"Occupation_Small Business\",\n      \"properties\": {\n        \"dtype\": \"boolean\",\n        \"num_unique_values\": 2,\n        \"samples\": [\n          true,\n          false\n        ],\n        \"semantic_type\": \"\",\n        \"description\": \"\"\n      }\n    }\n  ]\n}"
            }
          },
          "metadata": {},
          "execution_count": 71
        }
      ]
    },
    {
      "cell_type": "code",
      "source": [
        "# \"ProdTaken\"は予測対象とするため、別途target変数に格納する\n",
        "target = train[\"ProdTaken\"]\n",
        "\n",
        "# 不要な特徴量を削除\n",
        "train = train.drop(columns=['id', 'Age', 'DurationOfPitch', 'durationOfPitch','Gender', 'NumberOfFollowups', 'ProductPitched',\n",
        "                            'NumberOfTrips', 'PitchSatisfactionScore', 'Designation', 'MonthlyIncome', 'customer_info',\n",
        "                            \"ProdTaken\"], axis=1)\n",
        "test = test.drop(columns=['id', 'Age', 'DurationOfPitch','durationOfPitch', 'Gender', 'NumberOfFollowups', 'ProductPitched',\n",
        "                          'NumberOfTrips', 'PitchSatisfactionScore', 'Designation', 'MonthlyIncome', 'customer_info'], axis=1)\n"
      ],
      "metadata": {
        "id": "Xe2OLR37nRt1"
      },
      "execution_count": null,
      "outputs": []
    },
    {
      "cell_type": "code",
      "source": [
        "# 学習データと検証データの分割\n",
        "X_train, X_valid, y_train, y_valid = train_test_split(train, target, random_state = 42)\n",
        "print(X_train.shape, X_valid.shape, y_train.shape, y_valid.shape)"
      ],
      "metadata": {
        "id": "DZ-A5F3L77Dq",
        "colab": {
          "base_uri": "https://localhost:8080/"
        },
        "outputId": "0d15e49b-a7a8-4ef3-d968-9de86612c836"
      },
      "execution_count": null,
      "outputs": [
        {
          "output_type": "stream",
          "name": "stdout",
          "text": [
            "(2616, 11) (873, 11) (2616,) (873,)\n"
          ]
        }
      ]
    },
    {
      "cell_type": "code",
      "source": [
        "# スタッキングの実装\n",
        "def stacking(models, meta_model, X_train, y_train, X_valid, y_valid, n_folds=5):\n",
        "    kf = KFold(n_splits=n_folds, shuffle=True, random_state=42)\n",
        "    S_train = np.zeros((X_train.shape[0], len(models)))\n",
        "    S_valid = np.zeros((X_valid.shape[0], len(models)))\n",
        "\n",
        "    for i, model in enumerate(models):\n",
        "        S_valid_i = np.zeros((X_valid.shape[0], n_folds))\n",
        "\n",
        "        for j, (train_index, test_index) in enumerate(kf.split(X_train)):\n",
        "            X_fold_train, X_fold_test = X_train.iloc[train_index], X_train.iloc[test_index]\n",
        "            y_fold_train, y_fold_test = y_train.iloc[train_index], y_train.iloc[test_index]\n",
        "\n",
        "            model_clone = clone(model)\n",
        "            model_clone.fit(X_fold_train, y_fold_train)\n",
        "            S_train[test_index, i] = model_clone.predict_proba(X_fold_test)[:, 1]\n",
        "            S_valid_i[:, j] = model_clone.predict_proba(X_valid)[:, 1]\n",
        "\n",
        "        S_valid[:, i] = S_valid_i.mean(axis=1)\n",
        "\n",
        "    meta_model.fit(S_train, y_train)\n",
        "    y_pred = meta_model.predict_proba(S_valid)[:, 1]\n",
        "    return y_pred\n"
      ],
      "metadata": {
        "id": "wvs0WeKknAiK"
      },
      "execution_count": null,
      "outputs": []
    },
    {
      "cell_type": "code",
      "source": [
        "# 使用するベースモデルとメタモデル\n",
        "models = [\n",
        "    RandomForestClassifier(n_estimators=100, random_state=42),\n",
        "    GradientBoostingClassifier(n_estimators=100, random_state=42),\n",
        "    KNeighborsClassifier(n_neighbors=5)\n",
        "]\n",
        "\n",
        "meta_model = XGBClassifier(n_estimators=100, random_state=42)\n",
        "\n",
        "# スタッキングの実行\n",
        "y_pred = stacking(models, meta_model, X_train, y_train, X_valid, y_valid)\n"
      ],
      "metadata": {
        "id": "sz76fI8hnB-b"
      },
      "execution_count": null,
      "outputs": []
    },
    {
      "cell_type": "code",
      "execution_count": null,
      "metadata": {
        "colab": {
          "base_uri": "https://localhost:8080/"
        },
        "id": "Xkfs95uk4ODU",
        "outputId": "c6f30f9c-e878-45c6-e215-4ff76072ce6e"
      },
      "outputs": [
        {
          "output_type": "stream",
          "name": "stdout",
          "text": [
            "Stacking Model AUC Score: 0.6910\n"
          ]
        }
      ],
      "source": [
        "# ROC-AUCで評価\n",
        "auc_score = roc_auc_score(y_valid, y_pred)\n",
        "print(f'Stacking Model AUC Score: {auc_score:.4f}')"
      ]
    },
    {
      "cell_type": "code",
      "source": [
        "# ROC曲線のプロット\n",
        "fpr, tpr, thresholds = roc_curve(y_valid, y_pred)\n",
        "plt.plot([0, 1], [0, 1], 'k--')\n",
        "plt.plot(fpr, tpr, label='Stacking Model')\n",
        "plt.xlabel('False Positive Rate')\n",
        "plt.ylabel('True Positive Rate')\n",
        "plt.title('ROC Curve')\n",
        "plt.show()"
      ],
      "metadata": {
        "colab": {
          "base_uri": "https://localhost:8080/",
          "height": 472
        },
        "id": "1e3-pgrhqDXr",
        "outputId": "6278671c-c265-44db-9fd9-c29712de8fa6"
      },
      "execution_count": null,
      "outputs": [
        {
          "output_type": "display_data",
          "data": {
            "text/plain": [
              "<Figure size 640x480 with 1 Axes>"
            ],
            "image/png": "[encoded data removed]"
          },
          "metadata": {}
        }
      ]
    },
    {
      "cell_type": "code",
      "source": [
        "# テストデータに適用する準備\n",
        "S_test = np.zeros((test.shape[0], len(models)))\n",
        "\n",
        "for i, model in enumerate(models):\n",
        "    model_clone = clone(model)\n",
        "    model_clone.fit(X_train, y_train)\n",
        "    S_test[:, i] = model_clone.predict_proba(test)[:, 1]\n"
      ],
      "metadata": {
        "id": "mpDLVG_dqW6b"
      },
      "execution_count": null,
      "outputs": []
    },
    {
      "cell_type": "code",
      "source": [
        "# メタモデルで予測\n",
        "final_pred = meta_model.predict_proba(S_test)[:, 1]"
      ],
      "metadata": {
        "id": "0F7xZjFIqcMv"
      },
      "execution_count": null,
      "outputs": []
    },
    {
      "cell_type": "code",
      "source": [
        "# 予測結果の先頭10件を表示\n",
        "final_pred[:10]"
      ],
      "metadata": {
        "colab": {
          "base_uri": "https://localhost:8080/"
        },
        "id": "fCxneX7Yqe_d",
        "outputId": "562ca2ee-57e8-4954-8e17-baf2a84de9e7"
      },
      "execution_count": null,
      "outputs": [
        {
          "output_type": "execute_result",
          "data": {
            "text/plain": [
              "array([0.01185781, 0.0992138 , 0.00965379, 0.23561181, 0.04639078,\n",
              "       0.24996328, 0.03860365, 0.03729786, 0.6011116 , 0.25795263],\n",
              "      dtype=float32)"
            ]
          },
          "metadata": {},
          "execution_count": 83
        }
      ]
    },
    {
      "cell_type": "code",
      "source": [
        "# submit_sample.csvを読み込みます。\n",
        "submit = pd.read_csv(\"/content/drive/MyDrive/SIGNATE_Cup 2024/data/sample_submit.csv\", header=None)\n",
        "# 提出ファイルの2列目を予測値で置き換えます。\n",
        "submit[1] = final_pred\n"
      ],
      "metadata": {
        "id": "wAoMfP3cqube"
      },
      "execution_count": null,
      "outputs": []
    },
    {
      "cell_type": "code",
      "source": [
        "submit.head()"
      ],
      "metadata": {
        "colab": {
          "base_uri": "https://localhost:8080/",
          "height": 206
        },
        "id": "-QLHNAw3rPhy",
        "outputId": "5d80a48c-f4e9-4a65-ad9d-664aa8123526"
      },
      "execution_count": null,
      "outputs": [
        {
          "output_type": "execute_result",
          "data": {
            "text/plain": [
              "      0         1\n",
              "0  3489  0.011858\n",
              "1  3490  0.099214\n",
              "2  3491  0.009654\n",
              "3  3492  0.235612\n",
              "4  3493  0.046391"
            ],
            "text/html": [
              "\n",
              "  <div id=\"df-b1f657b5-f766-41d6-81eb-a69d7c8188d7\" class=\"colab-df-container\">\n",
              "    <div>\n",
              "<style scoped>\n",
              "    .dataframe tbody tr th:only-of-type {\n",
              "        vertical-align: middle;\n",
              "    }\n",
              "\n",
              "    .dataframe tbody tr th {\n",
              "        vertical-align: top;\n",
              "    }\n",
              "\n",
              "    .dataframe thead th {\n",
              "        text-align: right;\n",
              "    }\n",
              "</style>\n",
              "<table border=\"1\" class=\"dataframe\">\n",
              "  <thead>\n",
              "    <tr style=\"text-align: right;\">\n",
              "      <th></th>\n",
              "      <th>0</th>\n",
              "      <th>1</th>\n",
              "    </tr>\n",
              "  </thead>\n",
              "  <tbody>\n",
              "    <tr>\n",
              "      <th>0</th>\n",
              "      <td>3489</td>\n",
              "      <td>0.011858</td>\n",
              "    </tr>\n",
              "    <tr>\n",
              "      <th>1</th>\n",
              "      <td>3490</td>\n",
              "      <td>0.099214</td>\n",
              "    </tr>\n",
              "    <tr>\n",
              "      <th>2</th>\n",
              "      <td>3491</td>\n",
              "      <td>0.009654</td>\n",
              "    </tr>\n",
              "    <tr>\n",
              "      <th>3</th>\n",
              "      <td>3492</td>\n",
              "      <td>0.235612</td>\n",
              "    </tr>\n",
              "    <tr>\n",
              "      <th>4</th>\n",
              "      <td>3493</td>\n",
              "      <td>0.046391</td>\n",
              "    </tr>\n",
              "  </tbody>\n",
              "</table>\n",
              "</div>\n",
              "    <div class=\"colab-df-buttons\">\n",
              "\n",
              "  <div class=\"colab-df-container\">\n",
              "    <button class=\"colab-df-convert\" onclick=\"convertToInteractive('df-b1f657b5-f766-41d6-81eb-a69d7c8188d7')\"\n",
              "            title=\"Convert this dataframe to an interactive table.\"\n",
              "            style=\"display:none;\">\n",
              "\n",
              "  <svg xmlns=\"http://www.w3.org/2000/svg\" height=\"24px\" viewBox=\"0 -960 960 960\">\n",
              "    <path d=\"M120-120v-720h720v720H120Zm60-500h600v-160H180v160Zm220 220h160v-160H400v160Zm0 220h160v-160H400v160ZM180-400h160v-160H180v160Zm440 0h160v-160H620v160ZM180-180h160v-160H180v160Zm440 0h160v-160H620v160Z\"/>\n",
              "  </svg>\n",
              "    </button>\n",
              "\n",
              "  <style>\n",
              "    .colab-df-container {\n",
              "      display:flex;\n",
              "      gap: 12px;\n",
              "    }\n",
              "\n",
              "    .colab-df-convert {\n",
              "      background-color: #E8F0FE;\n",
              "      border: none;\n",
              "      border-radius: 50%;\n",
              "      cursor: pointer;\n",
              "      display: none;\n",
              "      fill: #1967D2;\n",
              "      height: 32px;\n",
              "      padding: 0 0 0 0;\n",
              "      width: 32px;\n",
              "    }\n",
              "\n",
              "    .colab-df-convert:hover {\n",
              "      background-color: #E2EBFA;\n",
              "      box-shadow: 0px 1px 2px rgba(60, 64, 67, 0.3), 0px 1px 3px 1px rgba(60, 64, 67, 0.15);\n",
              "      fill: #174EA6;\n",
              "    }\n",
              "\n",
              "    .colab-df-buttons div {\n",
              "      margin-bottom: 4px;\n",
              "    }\n",
              "\n",
              "    [theme=dark] .colab-df-convert {\n",
              "      background-color: #3B4455;\n",
              "      fill: #D2E3FC;\n",
              "    }\n",
              "\n",
              "    [theme=dark] .colab-df-convert:hover {\n",
              "      background-color: #434B5C;\n",
              "      box-shadow: 0px 1px 3px 1px rgba(0, 0, 0, 0.15);\n",
              "      filter: drop-shadow(0px 1px 2px rgba(0, 0, 0, 0.3));\n",
              "      fill: #FFFFFF;\n",
              "    }\n",
              "  </style>\n",
              "\n",
              "    <script>\n",
              "      const buttonEl =\n",
              "        document.querySelector('#df-b1f657b5-f766-41d6-81eb-a69d7c8188d7 button.colab-df-convert');\n",
              "      buttonEl.style.display =\n",
              "        google.colab.kernel.accessAllowed ? 'block' : 'none';\n",
              "\n",
              "      async function convertToInteractive(key) {\n",
              "        const element = document.querySelector('#df-b1f657b5-f766-41d6-81eb-a69d7c8188d7');\n",
              "        const dataTable =\n",
              "          await google.colab.kernel.invokeFunction('convertToInteractive',\n",
              "                                                    [key], {});\n",
              "        if (!dataTable) return;\n",
              "\n",
              "        const docLinkHtml = 'Like what you see? Visit the ' +\n",
              "          '<a target=\"_blank\" href=https://colab.research.google.com/notebooks/data_table.ipynb>data table notebook</a>'\n",
              "          + ' to learn more about interactive tables.';\n",
              "        element.innerHTML = '';\n",
              "        dataTable['output_type'] = 'display_data';\n",
              "        await google.colab.output.renderOutput(dataTable, element);\n",
              "        const docLink = document.createElement('div');\n",
              "        docLink.innerHTML = docLinkHtml;\n",
              "        element.appendChild(docLink);\n",
              "      }\n",
              "    </script>\n",
              "  </div>\n",
              "\n",
              "\n",
              "<div id=\"df-abb22abb-89ff-4819-aa37-070da165edc6\">\n",
              "  <button class=\"colab-df-quickchart\" onclick=\"quickchart('df-abb22abb-89ff-4819-aa37-070da165edc6')\"\n",
              "            title=\"Suggest charts\"\n",
              "            style=\"display:none;\">\n",
              "\n",
              "<svg xmlns=\"http://www.w3.org/2000/svg\" height=\"24px\"viewBox=\"0 0 24 24\"\n",
              "     width=\"24px\">\n",
              "    <g>\n",
              "        <path d=\"M19 3H5c-1.1 0-2 .9-2 2v14c0 1.1.9 2 2 2h14c1.1 0 2-.9 2-2V5c0-1.1-.9-2-2-2zM9 17H7v-7h2v7zm4 0h-2V7h2v10zm4 0h-2v-4h2v4z\"/>\n",
              "    </g>\n",
              "</svg>\n",
              "  </button>\n",
              "\n",
              "<style>\n",
              "  .colab-df-quickchart {\n",
              "      --bg-color: #E8F0FE;\n",
              "      --fill-color: #1967D2;\n",
              "      --hover-bg-color: #E2EBFA;\n",
              "      --hover-fill-color: #174EA6;\n",
              "      --disabled-fill-color: #AAA;\n",
              "      --disabled-bg-color: #DDD;\n",
              "  }\n",
              "\n",
              "  [theme=dark] .colab-df-quickchart {\n",
              "      --bg-color: #3B4455;\n",
              "      --fill-color: #D2E3FC;\n",
              "      --hover-bg-color: #434B5C;\n",
              "      --hover-fill-color: #FFFFFF;\n",
              "      --disabled-bg-color: #3B4455;\n",
              "      --disabled-fill-color: #666;\n",
              "  }\n",
              "\n",
              "  .colab-df-quickchart {\n",
              "    background-color: var(--bg-color);\n",
              "    border: none;\n",
              "    border-radius: 50%;\n",
              "    cursor: pointer;\n",
              "    display: none;\n",
              "    fill: var(--fill-color);\n",
              "    height: 32px;\n",
              "    padding: 0;\n",
              "    width: 32px;\n",
              "  }\n",
              "\n",
              "  .colab-df-quickchart:hover {\n",
              "    background-color: var(--hover-bg-color);\n",
              "    box-shadow: 0 1px 2px rgba(60, 64, 67, 0.3), 0 1px 3px 1px rgba(60, 64, 67, 0.15);\n",
              "    fill: var(--button-hover-fill-color);\n",
              "  }\n",
              "\n",
              "  .colab-df-quickchart-complete:disabled,\n",
              "  .colab-df-quickchart-complete:disabled:hover {\n",
              "    background-color: var(--disabled-bg-color);\n",
              "    fill: var(--disabled-fill-color);\n",
              "    box-shadow: none;\n",
              "  }\n",
              "\n",
              "  .colab-df-spinner {\n",
              "    border: 2px solid var(--fill-color);\n",
              "    border-color: transparent;\n",
              "    border-bottom-color: var(--fill-color);\n",
              "    animation:\n",
              "      spin 1s steps(1) infinite;\n",
              "  }\n",
              "\n",
              "  @keyframes spin {\n",
              "    0% {\n",
              "      border-color: transparent;\n",
              "      border-bottom-color: var(--fill-color);\n",
              "      border-left-color: var(--fill-color);\n",
              "    }\n",
              "    20% {\n",
              "      border-color: transparent;\n",
              "      border-left-color: var(--fill-color);\n",
              "      border-top-color: var(--fill-color);\n",
              "    }\n",
              "    30% {\n",
              "      border-color: transparent;\n",
              "      border-left-color: var(--fill-color);\n",
              "      border-top-color: var(--fill-color);\n",
              "      border-right-color: var(--fill-color);\n",
              "    }\n",
              "    40% {\n",
              "      border-color: transparent;\n",
              "      border-right-color: var(--fill-color);\n",
              "      border-top-color: var(--fill-color);\n",
              "    }\n",
              "    60% {\n",
              "      border-color: transparent;\n",
              "      border-right-color: var(--fill-color);\n",
              "    }\n",
              "    80% {\n",
              "      border-color: transparent;\n",
              "      border-right-color: var(--fill-color);\n",
              "      border-bottom-color: var(--fill-color);\n",
              "    }\n",
              "    90% {\n",
              "      border-color: transparent;\n",
              "      border-bottom-color: var(--fill-color);\n",
              "    }\n",
              "  }\n",
              "</style>\n",
              "\n",
              "  <script>\n",
              "    async function quickchart(key) {\n",
              "      const quickchartButtonEl =\n",
              "        document.querySelector('#' + key + ' button');\n",
              "      quickchartButtonEl.disabled = true;  // To prevent multiple clicks.\n",
              "      quickchartButtonEl.classList.add('colab-df-spinner');\n",
              "      try {\n",
              "        const charts = await google.colab.kernel.invokeFunction(\n",
              "            'suggestCharts', [key], {});\n",
              "      } catch (error) {\n",
              "        console.error('Error during call to suggestCharts:', error);\n",
              "      }\n",
              "      quickchartButtonEl.classList.remove('colab-df-spinner');\n",
              "      quickchartButtonEl.classList.add('colab-df-quickchart-complete');\n",
              "    }\n",
              "    (() => {\n",
              "      let quickchartButtonEl =\n",
              "        document.querySelector('#df-abb22abb-89ff-4819-aa37-070da165edc6 button');\n",
              "      quickchartButtonEl.style.display =\n",
              "        google.colab.kernel.accessAllowed ? 'block' : 'none';\n",
              "    })();\n",
              "  </script>\n",
              "</div>\n",
              "\n",
              "    </div>\n",
              "  </div>\n"
            ],
            "application/vnd.google.colaboratory.intrinsic+json": {
              "type": "dataframe",
              "variable_name": "submit",
              "summary": "{\n  \"name\": \"submit\",\n  \"rows\": 3489,\n  \"fields\": [\n    {\n      \"column\": 0,\n      \"properties\": {\n        \"dtype\": \"number\",\n        \"std\": 1007,\n        \"min\": 3489,\n        \"max\": 6977,\n        \"num_unique_values\": 3489,\n        \"samples\": [\n          3784,\n          6357,\n          6863\n        ],\n        \"semantic_type\": \"\",\n        \"description\": \"\"\n      }\n    },\n    {\n      \"column\": 1,\n      \"properties\": {\n        \"dtype\": \"float32\",\n        \"num_unique_values\": 1919,\n        \"samples\": [\n          0.28627297282218933,\n          0.0533331036567688,\n          0.02101648785173893\n        ],\n        \"semantic_type\": \"\",\n        \"description\": \"\"\n      }\n    }\n  ]\n}"
            }
          },
          "metadata": {},
          "execution_count": 86
        }
      ]
    },
    {
      "cell_type": "code",
      "source": [
        "#submission.csvでデータを保存(提出様式はindex=False, header=Noneとしてください。)\n",
        "submit.to_csv(\"submission.csv\", index=False, header=None)"
      ],
      "metadata": {
        "id": "mSfFhHCErM4Z"
      },
      "execution_count": null,
      "outputs": []
    }
  ]
}